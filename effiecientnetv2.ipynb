{
  "nbformat": 4,
  "nbformat_minor": 0,
  "metadata": {
    "colab": {
      "provenance": [],
      "gpuType": "T4"
    },
    "kernelspec": {
      "name": "python3",
      "display_name": "Python 3"
    },
    "language_info": {
      "name": "python"
    },
    "accelerator": "GPU",
    "widgets": {
      "application/vnd.jupyter.widget-state+json": {
        "5df56cda844e4370ab9593a0ef982623": {
          "model_module": "@jupyter-widgets/controls",
          "model_name": "HBoxModel",
          "model_module_version": "1.5.0",
          "state": {
            "_dom_classes": [],
            "_model_module": "@jupyter-widgets/controls",
            "_model_module_version": "1.5.0",
            "_model_name": "HBoxModel",
            "_view_count": null,
            "_view_module": "@jupyter-widgets/controls",
            "_view_module_version": "1.5.0",
            "_view_name": "HBoxView",
            "box_style": "",
            "children": [
              "IPY_MODEL_79df0212fc4f4419ab82f5429e12e0ef",
              "IPY_MODEL_7d5498c6a35b4ae8bc26462c26f45277",
              "IPY_MODEL_d1326225619742cc9bde03d58b80530e"
            ],
            "layout": "IPY_MODEL_160be2389f034263bf6f317f9ba87fe5"
          }
        },
        "79df0212fc4f4419ab82f5429e12e0ef": {
          "model_module": "@jupyter-widgets/controls",
          "model_name": "HTMLModel",
          "model_module_version": "1.5.0",
          "state": {
            "_dom_classes": [],
            "_model_module": "@jupyter-widgets/controls",
            "_model_module_version": "1.5.0",
            "_model_name": "HTMLModel",
            "_view_count": null,
            "_view_module": "@jupyter-widgets/controls",
            "_view_module_version": "1.5.0",
            "_view_name": "HTMLView",
            "description": "",
            "description_tooltip": null,
            "layout": "IPY_MODEL_e8e57f5a1296497a91c2d6c6d3bad35c",
            "placeholder": "​",
            "style": "IPY_MODEL_90bb1f2670b14a8588cff004af1a9f18",
            "value": "model.safetensors: 100%"
          }
        },
        "7d5498c6a35b4ae8bc26462c26f45277": {
          "model_module": "@jupyter-widgets/controls",
          "model_name": "FloatProgressModel",
          "model_module_version": "1.5.0",
          "state": {
            "_dom_classes": [],
            "_model_module": "@jupyter-widgets/controls",
            "_model_module_version": "1.5.0",
            "_model_name": "FloatProgressModel",
            "_view_count": null,
            "_view_module": "@jupyter-widgets/controls",
            "_view_module_version": "1.5.0",
            "_view_name": "ProgressView",
            "bar_style": "success",
            "description": "",
            "description_tooltip": null,
            "layout": "IPY_MODEL_1a5b2cf32734473080b4aa02bf767b00",
            "max": 49335454,
            "min": 0,
            "orientation": "horizontal",
            "style": "IPY_MODEL_6b4dabb47ecd420d830bf9e7f1c02620",
            "value": 49335454
          }
        },
        "d1326225619742cc9bde03d58b80530e": {
          "model_module": "@jupyter-widgets/controls",
          "model_name": "HTMLModel",
          "model_module_version": "1.5.0",
          "state": {
            "_dom_classes": [],
            "_model_module": "@jupyter-widgets/controls",
            "_model_module_version": "1.5.0",
            "_model_name": "HTMLModel",
            "_view_count": null,
            "_view_module": "@jupyter-widgets/controls",
            "_view_module_version": "1.5.0",
            "_view_name": "HTMLView",
            "description": "",
            "description_tooltip": null,
            "layout": "IPY_MODEL_bca2b47a51404789bd64a6c074c815da",
            "placeholder": "​",
            "style": "IPY_MODEL_63c526632236470794a002e2ea0723f8",
            "value": " 49.3M/49.3M [00:00&lt;00:00, 156MB/s]"
          }
        },
        "160be2389f034263bf6f317f9ba87fe5": {
          "model_module": "@jupyter-widgets/base",
          "model_name": "LayoutModel",
          "model_module_version": "1.2.0",
          "state": {
            "_model_module": "@jupyter-widgets/base",
            "_model_module_version": "1.2.0",
            "_model_name": "LayoutModel",
            "_view_count": null,
            "_view_module": "@jupyter-widgets/base",
            "_view_module_version": "1.2.0",
            "_view_name": "LayoutView",
            "align_content": null,
            "align_items": null,
            "align_self": null,
            "border": null,
            "bottom": null,
            "display": null,
            "flex": null,
            "flex_flow": null,
            "grid_area": null,
            "grid_auto_columns": null,
            "grid_auto_flow": null,
            "grid_auto_rows": null,
            "grid_column": null,
            "grid_gap": null,
            "grid_row": null,
            "grid_template_areas": null,
            "grid_template_columns": null,
            "grid_template_rows": null,
            "height": null,
            "justify_content": null,
            "justify_items": null,
            "left": null,
            "margin": null,
            "max_height": null,
            "max_width": null,
            "min_height": null,
            "min_width": null,
            "object_fit": null,
            "object_position": null,
            "order": null,
            "overflow": null,
            "overflow_x": null,
            "overflow_y": null,
            "padding": null,
            "right": null,
            "top": null,
            "visibility": null,
            "width": null
          }
        },
        "e8e57f5a1296497a91c2d6c6d3bad35c": {
          "model_module": "@jupyter-widgets/base",
          "model_name": "LayoutModel",
          "model_module_version": "1.2.0",
          "state": {
            "_model_module": "@jupyter-widgets/base",
            "_model_module_version": "1.2.0",
            "_model_name": "LayoutModel",
            "_view_count": null,
            "_view_module": "@jupyter-widgets/base",
            "_view_module_version": "1.2.0",
            "_view_name": "LayoutView",
            "align_content": null,
            "align_items": null,
            "align_self": null,
            "border": null,
            "bottom": null,
            "display": null,
            "flex": null,
            "flex_flow": null,
            "grid_area": null,
            "grid_auto_columns": null,
            "grid_auto_flow": null,
            "grid_auto_rows": null,
            "grid_column": null,
            "grid_gap": null,
            "grid_row": null,
            "grid_template_areas": null,
            "grid_template_columns": null,
            "grid_template_rows": null,
            "height": null,
            "justify_content": null,
            "justify_items": null,
            "left": null,
            "margin": null,
            "max_height": null,
            "max_width": null,
            "min_height": null,
            "min_width": null,
            "object_fit": null,
            "object_position": null,
            "order": null,
            "overflow": null,
            "overflow_x": null,
            "overflow_y": null,
            "padding": null,
            "right": null,
            "top": null,
            "visibility": null,
            "width": null
          }
        },
        "90bb1f2670b14a8588cff004af1a9f18": {
          "model_module": "@jupyter-widgets/controls",
          "model_name": "DescriptionStyleModel",
          "model_module_version": "1.5.0",
          "state": {
            "_model_module": "@jupyter-widgets/controls",
            "_model_module_version": "1.5.0",
            "_model_name": "DescriptionStyleModel",
            "_view_count": null,
            "_view_module": "@jupyter-widgets/base",
            "_view_module_version": "1.2.0",
            "_view_name": "StyleView",
            "description_width": ""
          }
        },
        "1a5b2cf32734473080b4aa02bf767b00": {
          "model_module": "@jupyter-widgets/base",
          "model_name": "LayoutModel",
          "model_module_version": "1.2.0",
          "state": {
            "_model_module": "@jupyter-widgets/base",
            "_model_module_version": "1.2.0",
            "_model_name": "LayoutModel",
            "_view_count": null,
            "_view_module": "@jupyter-widgets/base",
            "_view_module_version": "1.2.0",
            "_view_name": "LayoutView",
            "align_content": null,
            "align_items": null,
            "align_self": null,
            "border": null,
            "bottom": null,
            "display": null,
            "flex": null,
            "flex_flow": null,
            "grid_area": null,
            "grid_auto_columns": null,
            "grid_auto_flow": null,
            "grid_auto_rows": null,
            "grid_column": null,
            "grid_gap": null,
            "grid_row": null,
            "grid_template_areas": null,
            "grid_template_columns": null,
            "grid_template_rows": null,
            "height": null,
            "justify_content": null,
            "justify_items": null,
            "left": null,
            "margin": null,
            "max_height": null,
            "max_width": null,
            "min_height": null,
            "min_width": null,
            "object_fit": null,
            "object_position": null,
            "order": null,
            "overflow": null,
            "overflow_x": null,
            "overflow_y": null,
            "padding": null,
            "right": null,
            "top": null,
            "visibility": null,
            "width": null
          }
        },
        "6b4dabb47ecd420d830bf9e7f1c02620": {
          "model_module": "@jupyter-widgets/controls",
          "model_name": "ProgressStyleModel",
          "model_module_version": "1.5.0",
          "state": {
            "_model_module": "@jupyter-widgets/controls",
            "_model_module_version": "1.5.0",
            "_model_name": "ProgressStyleModel",
            "_view_count": null,
            "_view_module": "@jupyter-widgets/base",
            "_view_module_version": "1.2.0",
            "_view_name": "StyleView",
            "bar_color": null,
            "description_width": ""
          }
        },
        "bca2b47a51404789bd64a6c074c815da": {
          "model_module": "@jupyter-widgets/base",
          "model_name": "LayoutModel",
          "model_module_version": "1.2.0",
          "state": {
            "_model_module": "@jupyter-widgets/base",
            "_model_module_version": "1.2.0",
            "_model_name": "LayoutModel",
            "_view_count": null,
            "_view_module": "@jupyter-widgets/base",
            "_view_module_version": "1.2.0",
            "_view_name": "LayoutView",
            "align_content": null,
            "align_items": null,
            "align_self": null,
            "border": null,
            "bottom": null,
            "display": null,
            "flex": null,
            "flex_flow": null,
            "grid_area": null,
            "grid_auto_columns": null,
            "grid_auto_flow": null,
            "grid_auto_rows": null,
            "grid_column": null,
            "grid_gap": null,
            "grid_row": null,
            "grid_template_areas": null,
            "grid_template_columns": null,
            "grid_template_rows": null,
            "height": null,
            "justify_content": null,
            "justify_items": null,
            "left": null,
            "margin": null,
            "max_height": null,
            "max_width": null,
            "min_height": null,
            "min_width": null,
            "object_fit": null,
            "object_position": null,
            "order": null,
            "overflow": null,
            "overflow_x": null,
            "overflow_y": null,
            "padding": null,
            "right": null,
            "top": null,
            "visibility": null,
            "width": null
          }
        },
        "63c526632236470794a002e2ea0723f8": {
          "model_module": "@jupyter-widgets/controls",
          "model_name": "DescriptionStyleModel",
          "model_module_version": "1.5.0",
          "state": {
            "_model_module": "@jupyter-widgets/controls",
            "_model_module_version": "1.5.0",
            "_model_name": "DescriptionStyleModel",
            "_view_count": null,
            "_view_module": "@jupyter-widgets/base",
            "_view_module_version": "1.2.0",
            "_view_name": "StyleView",
            "description_width": ""
          }
        }
      }
    }
  },
  "cells": [
    {
      "cell_type": "code",
      "source": [
        "from google.colab import drive\n",
        "drive.mount('/content/drive')\n"
      ],
      "metadata": {
        "colab": {
          "base_uri": "https://localhost:8080/"
        },
        "id": "qiR39leOLGV1",
        "outputId": "106d1bbf-06cd-4479-ad7a-402c0c653b70"
      },
      "execution_count": null,
      "outputs": [
        {
          "output_type": "stream",
          "name": "stdout",
          "text": [
            "Drive already mounted at /content/drive; to attempt to forcibly remount, call drive.mount(\"/content/drive\", force_remount=True).\n"
          ]
        }
      ]
    },
    {
      "cell_type": "code",
      "source": [
        "import zipfile\n",
        "import os\n",
        "\n",
        "zip_path = \"/content/drive/MyDrive/VIBGYOR dataset.zip\"  # Update this with your actual path\n",
        "extract_path = \"/content/VIBGYOR\"  # Change the destination if needed\n",
        "\n",
        "# Create the extraction directory if it doesn't exist\n",
        "os.makedirs(extract_path, exist_ok=True)\n",
        "\n",
        "# Extract ZIP file\n",
        "with zipfile.ZipFile(zip_path, 'r') as zip_ref:\n",
        "    zip_ref.extractall(extract_path)\n",
        "\n",
        "print(\"Unzipping complete! Files extracted to:\", extract_path)"
      ],
      "metadata": {
        "colab": {
          "base_uri": "https://localhost:8080/"
        },
        "id": "raWUe1G7LLCK",
        "outputId": "ac3b4bba-657b-42d3-a834-ee31ebd75928"
      },
      "execution_count": null,
      "outputs": [
        {
          "output_type": "stream",
          "name": "stdout",
          "text": [
            "Unzipping complete! Files extracted to: /content/VIBGYOR\n"
          ]
        }
      ]
    },
    {
      "cell_type": "code",
      "execution_count": null,
      "metadata": {
        "id": "VSHfk2SXLBqT"
      },
      "outputs": [],
      "source": [
        "# --- CONFIGURATION ---\n",
        "import os\n",
        "import cv2\n",
        "import numpy as np\n",
        "import torch\n",
        "import torch.nn as nn\n",
        "import timm\n",
        "from torch.utils.data import Dataset, DataLoader\n",
        "from sklearn.model_selection import train_test_split\n",
        "from sklearn.metrics import classification_report, confusion_matrix, accuracy_score, precision_score, recall_score, f1_score\n",
        "import matplotlib.pyplot as plt\n",
        "import seaborn as sns\n",
        "import torch.optim as optim\n",
        "import torch.multiprocessing as mp\n",
        "from concurrent.futures import ThreadPoolExecutor"
      ]
    },
    {
      "cell_type": "code",
      "source": [
        "\n",
        "data_root = \"/content/VIBGYOR/VIBGYOR dataset\"\n",
        "img_size = 224  # Adjusted for EfficientNet\n",
        "band_order = ['blue','green','indigo','orange','red','violet', 'yellow']  # Band order for multispectral images\n",
        "device = torch.device(\"cuda\" if torch.cuda.is_available() else \"cpu\")\n",
        "num_workers = os.cpu_count()"
      ],
      "metadata": {
        "id": "ZVV08Rf4Ltpb"
      },
      "execution_count": null,
      "outputs": []
    },
    {
      "cell_type": "code",
      "source": [
        "class SpectralDataset(Dataset):\n",
        "    def __init__(self, data_root):\n",
        "        self.samples = []\n",
        "        self.class_map = {d: i for i, d in enumerate(sorted(os.listdir(data_root)))}\n",
        "        self.inverse_class_map = {i: d for d, i in self.class_map.items()}\n",
        "\n",
        "        for cls in os.listdir(data_root):\n",
        "            cls_folder = os.path.join(data_root, cls)\n",
        "            base_names = set('_'.join(f.split('_')[:-1]) for f in os.listdir(cls_folder) if f.endswith('.jpg'))\n",
        "            for base in base_names:\n",
        "                self.samples.append((os.path.join(cls_folder, base), self.class_map[cls]))\n",
        "\n",
        "    def __len__(self):\n",
        "        return len(self.samples)\n",
        "\n",
        "    def __getitem__(self, idx):\n",
        "        base_path, label = self.samples[idx]\n",
        "        band_stack = []\n",
        "        for band in band_order:\n",
        "            band_path = f\"{base_path}_{band}.jpg\"\n",
        "            img = cv2.imread(band_path, cv2.IMREAD_GRAYSCALE)\n",
        "            img = cv2.resize(img, (224, 224))\n",
        "            band_stack.append(img / 255.0)\n",
        "        tensor = torch.tensor(np.stack(band_stack), dtype=torch.float32)\n",
        "        return tensor, label\n"
      ],
      "metadata": {
        "id": "XTET0g2nL0fD"
      },
      "execution_count": null,
      "outputs": []
    },
    {
      "cell_type": "code",
      "source": [
        "# --- EfficientNet Model with 7-Channel Input ---\n",
        "class EfficientNet7Channel(nn.Module):\n",
        "    def __init__(self, num_classes):\n",
        "        super(EfficientNet7Channel, self).__init__()\n",
        "        self.model = timm.create_model('efficientnet_b3', pretrained=True, in_chans=7, num_classes=num_classes)\n",
        "\n",
        "    def forward(self, x):\n",
        "        return self.model(x)\n"
      ],
      "metadata": {
        "id": "sS9_67PiL8vj"
      },
      "execution_count": null,
      "outputs": []
    },
    {
      "cell_type": "code",
      "source": [
        "# --- DataLoader ---\n",
        "def threaded_loader(dataset, batch_size=16):\n",
        "    def collate_fn(batch):\n",
        "        xs, ys = zip(*batch)\n",
        "        return torch.stack(xs), torch.tensor(ys)\n",
        "    return DataLoader(dataset, batch_size=batch_size, shuffle=True, num_workers=num_workers, collate_fn=collate_fn)\n",
        "\n",
        "# --- Prepare Dataset ---\n",
        "dataset = SpectralDataset(data_root)\n",
        "train_idx, val_idx = train_test_split(list(range(len(dataset))), test_size=0.2, random_state=42)\n",
        "train_set = torch.utils.data.Subset(dataset, train_idx)\n",
        "val_set = torch.utils.data.Subset(dataset, val_idx)\n",
        "train_loader = threaded_loader(train_set)\n",
        "val_loader = threaded_loader(val_set, batch_size=1)"
      ],
      "metadata": {
        "id": "VHi19emyMA8r"
      },
      "execution_count": null,
      "outputs": []
    },
    {
      "cell_type": "code",
      "source": [
        "# --- Train EfficientNet ---\n",
        "model = EfficientNet7Channel(num_classes=len(dataset.class_map)).to(device)\n",
        "optimizer = optim.AdamW(model.parameters(), lr=0.0001, weight_decay=1e-4)\n",
        "criterion = nn.CrossEntropyLoss()\n",
        "scaler = torch.cuda.amp.GradScaler()\n",
        "\n",
        "best_acc = 0.0\n",
        "num_epochs = 40\n",
        "history = {'loss': [], 'train_accuracy': [], 'val_accuracy': [], 'f1_score': []}\n",
        "\n",
        "for epoch in range(num_epochs):\n",
        "    model.train()\n",
        "    total_loss = 0\n",
        "    correct_train, total_train = 0, 0\n",
        "    for xb, yb in train_loader:\n",
        "        xb, yb = xb.to(device), yb.to(device)\n",
        "        optimizer.zero_grad()\n",
        "        with torch.amp.autocast(device_type='cuda'):\n",
        "            preds = model(xb)\n",
        "            loss = criterion(preds, yb)\n",
        "        scaler.scale(loss).backward()\n",
        "        scaler.step(optimizer)\n",
        "        scaler.update()\n",
        "        total_loss += loss.item()\n",
        "        correct_train += (torch.argmax(preds, dim=1) == yb).sum().item()\n",
        "        total_train += yb.size(0)\n",
        "\n",
        "    train_acc = correct_train / total_train\n",
        "    model.eval()\n",
        "    correct_val, total_val = 0, 0\n",
        "    y_true, y_pred = [], []\n",
        "    with torch.no_grad():\n",
        "        for xb, yb in val_loader:\n",
        "            xb, yb = xb.to(device), yb.to(device)\n",
        "            outputs = model(xb)\n",
        "            preds = torch.argmax(outputs, dim=1)\n",
        "            correct_val += (preds == yb).sum().item()\n",
        "            total_val += yb.size(0)\n",
        "            y_pred.extend(preds.cpu().numpy())\n",
        "            y_true.extend(yb.cpu().numpy())\n",
        "\n",
        "    val_acc = correct_val / total_val\n",
        "    f1 = f1_score(y_true, y_pred, average='macro')\n",
        "    history['loss'].append(total_loss / len(train_loader))\n",
        "    history['train_accuracy'].append(train_acc)\n",
        "    history['val_accuracy'].append(val_acc)\n",
        "    history['f1_score'].append(f1)\n",
        "\n",
        "    if val_acc > best_acc:\n",
        "        best_acc = val_acc\n",
        "        torch.save(model.state_dict(), 'best_efficientnet_model.pth')\n",
        "        print(\"Best model saved.\")\n",
        "\n",
        "    print(f\"Epoch {epoch+1}: Loss = {total_loss / len(train_loader):.4f}, Train Acc = {train_acc:.4f}, Val Acc = {val_acc:.4f}, F1 Score = {f1:.4f}\")"
      ],
      "metadata": {
        "colab": {
          "base_uri": "https://localhost:8080/",
          "height": 1000,
          "referenced_widgets": [
            "5df56cda844e4370ab9593a0ef982623",
            "79df0212fc4f4419ab82f5429e12e0ef",
            "7d5498c6a35b4ae8bc26462c26f45277",
            "d1326225619742cc9bde03d58b80530e",
            "160be2389f034263bf6f317f9ba87fe5",
            "e8e57f5a1296497a91c2d6c6d3bad35c",
            "90bb1f2670b14a8588cff004af1a9f18",
            "1a5b2cf32734473080b4aa02bf767b00",
            "6b4dabb47ecd420d830bf9e7f1c02620",
            "bca2b47a51404789bd64a6c074c815da",
            "63c526632236470794a002e2ea0723f8"
          ]
        },
        "id": "Zx6_odLaMEJM",
        "outputId": "b7b81e8c-a3ce-444e-89e1-15437f411217"
      },
      "execution_count": null,
      "outputs": [
        {
          "output_type": "stream",
          "name": "stderr",
          "text": [
            "/usr/local/lib/python3.11/dist-packages/huggingface_hub/utils/_auth.py:94: UserWarning: \n",
            "The secret `HF_TOKEN` does not exist in your Colab secrets.\n",
            "To authenticate with the Hugging Face Hub, create a token in your settings tab (https://huggingface.co/settings/tokens), set it as secret in your Google Colab and restart your session.\n",
            "You will be able to reuse this secret in all of your notebooks.\n",
            "Please note that authentication is recommended but still optional to access public models or datasets.\n",
            "  warnings.warn(\n"
          ]
        },
        {
          "output_type": "display_data",
          "data": {
            "text/plain": [
              "model.safetensors:   0%|          | 0.00/49.3M [00:00<?, ?B/s]"
            ],
            "application/vnd.jupyter.widget-view+json": {
              "version_major": 2,
              "version_minor": 0,
              "model_id": "5df56cda844e4370ab9593a0ef982623"
            }
          },
          "metadata": {}
        },
        {
          "output_type": "stream",
          "name": "stderr",
          "text": [
            "<ipython-input-8-892e874f5fef>:5: FutureWarning: `torch.cuda.amp.GradScaler(args...)` is deprecated. Please use `torch.amp.GradScaler('cuda', args...)` instead.\n",
            "  scaler = torch.cuda.amp.GradScaler()\n"
          ]
        },
        {
          "output_type": "stream",
          "name": "stdout",
          "text": [
            "Best model saved.\n",
            "Epoch 1: Loss = 1.0184, Train Acc = 0.6632, Val Acc = 0.8042, F1 Score = 0.7808\n",
            "Best model saved.\n",
            "Epoch 2: Loss = 0.3072, Train Acc = 0.8854, Val Acc = 0.8764, F1 Score = 0.8533\n",
            "Epoch 3: Loss = 0.2003, Train Acc = 0.9221, Val Acc = 0.8538, F1 Score = 0.8425\n",
            "Epoch 4: Loss = 0.1780, Train Acc = 0.9287, Val Acc = 0.8680, F1 Score = 0.8509\n",
            "Best model saved.\n",
            "Epoch 5: Loss = 0.1579, Train Acc = 0.9304, Val Acc = 0.8809, F1 Score = 0.8572\n",
            "Best model saved.\n",
            "Epoch 6: Loss = 0.1397, Train Acc = 0.9333, Val Acc = 0.8880, F1 Score = 0.8708\n",
            "Epoch 7: Loss = 0.1341, Train Acc = 0.9353, Val Acc = 0.8751, F1 Score = 0.8595\n",
            "Epoch 8: Loss = 0.1253, Train Acc = 0.9399, Val Acc = 0.8815, F1 Score = 0.8532\n",
            "Epoch 9: Loss = 0.1276, Train Acc = 0.9343, Val Acc = 0.8880, F1 Score = 0.8673\n",
            "Epoch 10: Loss = 0.1236, Train Acc = 0.9383, Val Acc = 0.8828, F1 Score = 0.8622\n",
            "Best model saved.\n",
            "Epoch 11: Loss = 0.1272, Train Acc = 0.9399, Val Acc = 0.8892, F1 Score = 0.8768\n",
            "Epoch 12: Loss = 0.1134, Train Acc = 0.9412, Val Acc = 0.8822, F1 Score = 0.8533\n",
            "Best model saved.\n",
            "Epoch 13: Loss = 0.1183, Train Acc = 0.9385, Val Acc = 0.8976, F1 Score = 0.8761\n",
            "Epoch 14: Loss = 0.1072, Train Acc = 0.9412, Val Acc = 0.8892, F1 Score = 0.8676\n",
            "Epoch 15: Loss = 0.1035, Train Acc = 0.9438, Val Acc = 0.8963, F1 Score = 0.8799\n",
            "Epoch 16: Loss = 0.0986, Train Acc = 0.9475, Val Acc = 0.8938, F1 Score = 0.8682\n",
            "Epoch 17: Loss = 0.1105, Train Acc = 0.9433, Val Acc = 0.8886, F1 Score = 0.8778\n",
            "Epoch 18: Loss = 0.1044, Train Acc = 0.9438, Val Acc = 0.8944, F1 Score = 0.8828\n",
            "Best model saved.\n",
            "Epoch 19: Loss = 0.1004, Train Acc = 0.9446, Val Acc = 0.9053, F1 Score = 0.8929\n",
            "Epoch 20: Loss = 0.1061, Train Acc = 0.9441, Val Acc = 0.8802, F1 Score = 0.8702\n",
            "Epoch 21: Loss = 0.1037, Train Acc = 0.9465, Val Acc = 0.8854, F1 Score = 0.8553\n",
            "Epoch 22: Loss = 0.1059, Train Acc = 0.9440, Val Acc = 0.8983, F1 Score = 0.8788\n",
            "Epoch 23: Loss = 0.0997, Train Acc = 0.9457, Val Acc = 0.8938, F1 Score = 0.8786\n",
            "Epoch 24: Loss = 0.0944, Train Acc = 0.9478, Val Acc = 0.8944, F1 Score = 0.8751\n",
            "Epoch 25: Loss = 0.0998, Train Acc = 0.9464, Val Acc = 0.8835, F1 Score = 0.8548\n",
            "Epoch 26: Loss = 0.1176, Train Acc = 0.9406, Val Acc = 0.8841, F1 Score = 0.8674\n",
            "Epoch 27: Loss = 0.0960, Train Acc = 0.9474, Val Acc = 0.8925, F1 Score = 0.8705\n",
            "Epoch 28: Loss = 0.0953, Train Acc = 0.9441, Val Acc = 0.8828, F1 Score = 0.8696\n",
            "Epoch 29: Loss = 0.0869, Train Acc = 0.9483, Val Acc = 0.8770, F1 Score = 0.8636\n",
            "Epoch 30: Loss = 0.0931, Train Acc = 0.9477, Val Acc = 0.8789, F1 Score = 0.8576\n",
            "Epoch 31: Loss = 0.0913, Train Acc = 0.9486, Val Acc = 0.8938, F1 Score = 0.8762\n",
            "Epoch 32: Loss = 0.1045, Train Acc = 0.9419, Val Acc = 0.8950, F1 Score = 0.8835\n",
            "Epoch 33: Loss = 0.0931, Train Acc = 0.9475, Val Acc = 0.8777, F1 Score = 0.8633\n",
            "Epoch 34: Loss = 0.0867, Train Acc = 0.9504, Val Acc = 0.8867, F1 Score = 0.8763\n",
            "Epoch 35: Loss = 0.0850, Train Acc = 0.9499, Val Acc = 0.8815, F1 Score = 0.8651\n",
            "Epoch 36: Loss = 0.0974, Train Acc = 0.9494, Val Acc = 0.8957, F1 Score = 0.8744\n",
            "Epoch 37: Loss = 0.0897, Train Acc = 0.9496, Val Acc = 0.8970, F1 Score = 0.8726\n",
            "Epoch 38: Loss = 0.0907, Train Acc = 0.9498, Val Acc = 0.8899, F1 Score = 0.8679\n",
            "Epoch 39: Loss = 0.0863, Train Acc = 0.9491, Val Acc = 0.8912, F1 Score = 0.8718\n",
            "Epoch 40: Loss = 0.0958, Train Acc = 0.9474, Val Acc = 0.8995, F1 Score = 0.8843\n"
          ]
        }
      ]
    },
    {
      "cell_type": "code",
      "source": [
        "# --- Plot Training Metrics ---\n",
        "def plot_training_metrics(history):\n",
        "    epochs = range(1, len(history['loss']) + 1)\n",
        "    plt.figure(figsize=(15, 5))\n",
        "\n",
        "    plt.subplot(1, 3, 1)\n",
        "    plt.plot(epochs, history['loss'], marker='o', linestyle='-', color='b', label=\"Loss\")\n",
        "    plt.xlabel(\"Epochs\")\n",
        "    plt.ylabel(\"Loss\")\n",
        "    plt.legend()\n",
        "\n",
        "    plt.subplot(1, 3, 2)\n",
        "    plt.plot(epochs, history['val_accuracy'], marker='s', linestyle='-', color='g', label=\"Validation Accuracy\")\n",
        "    plt.xlabel(\"Epochs\")\n",
        "    plt.ylabel(\"Accuracy\")\n",
        "    plt.legend()\n",
        "\n",
        "    plt.subplot(1, 3, 3)\n",
        "    plt.plot(epochs, history['f1_score'], marker='^', linestyle='-', color='r', label=\"F1 Score\")\n",
        "    plt.xlabel(\"Epochs\")\n",
        "    plt.ylabel(\"F1 Score\")\n",
        "    plt.legend()\n",
        "\n",
        "    plt.show()\n",
        "\n",
        "plot_training_metrics(history)"
      ],
      "metadata": {
        "colab": {
          "base_uri": "https://localhost:8080/",
          "height": 465
        },
        "id": "BbhiptwwMJv3",
        "outputId": "463fb016-971d-44a9-a9fd-48f8e4944e10"
      },
      "execution_count": null,
      "outputs": [
        {
          "output_type": "display_data",
          "data": {
            "text/plain": [
              "<Figure size 1500x500 with 3 Axes>"
            ],
            "image/png": "[encoded data removed]"
          },
          "metadata": {}
        }
      ]
    },
    {
      "cell_type": "code",
      "source": [
        "import seaborn as sns\n",
        "import matplotlib.pyplot as plt\n",
        "from sklearn.metrics import classification_report, confusion_matrix\n",
        "\n",
        "def evaluate_model(model, dataloader, dataset):\n",
        "    model.eval()\n",
        "    y_true, y_pred = [], []\n",
        "\n",
        "    with torch.no_grad():\n",
        "        for xb, yb in dataloader:\n",
        "            xb, yb = xb.to(device), yb.to(device)\n",
        "            outputs = model(xb)\n",
        "            preds = torch.argmax(outputs, dim=1).cpu().numpy()\n",
        "            y_pred.extend(preds)\n",
        "            y_true.extend(yb.cpu().numpy())\n",
        "\n",
        "    # Compute Classification Report\n",
        "    class_labels = list(dataset.class_map.keys())\n",
        "    print(\"\\nClassification Report:\\n\", classification_report(y_true, y_pred, target_names=class_labels))\n",
        "\n",
        "    # Compute Confusion Matrix\n",
        "    cm = confusion_matrix(y_true, y_pred)\n",
        "    plt.figure(figsize=(8, 6))\n",
        "    sns.heatmap(cm, annot=True, fmt=\"d\", cmap=\"Blues\", xticklabels=class_labels, yticklabels=class_labels)\n",
        "    plt.xlabel(\"Predicted Label\")\n",
        "    plt.ylabel(\"True Label\")\n",
        "    plt.title(\"Confusion Matrix\")\n",
        "    plt.show()\n",
        "\n",
        "# Call the function after training\n",
        "evaluate_model(model, val_loader, dataset)\n"
      ],
      "metadata": {
        "colab": {
          "base_uri": "https://localhost:8080/",
          "height": 943
        },
        "id": "B8dLJ55GMc3i",
        "outputId": "f1eac41c-23fb-4d20-a8d3-ccae1c855b27"
      },
      "execution_count": null,
      "outputs": [
        {
          "output_type": "stream",
          "name": "stdout",
          "text": [
            "\n",
            "Classification Report:\n",
            "                      precision    recall  f1-score   support\n",
            "\n",
            "           Calculus       0.59      0.72      0.65       175\n",
            "        Data caries       0.99      0.97      0.98       344\n",
            "         Gingivitis       0.85      0.78      0.81       372\n",
            "        Mouth Ulcer       0.99      0.99      0.99       374\n",
            "Tooth Discoloration       0.97      0.97      0.97       246\n",
            "         hypodontia       0.93      0.88      0.90        42\n",
            "\n",
            "           accuracy                           0.90      1553\n",
            "          macro avg       0.89      0.89      0.88      1553\n",
            "       weighted avg       0.91      0.90      0.90      1553\n",
            "\n"
          ]
        },
        {
          "output_type": "display_data",
          "data": {
            "text/plain": [
              "<Figure size 800x600 with 2 Axes>"
            ],
            "image/png": "[encoded data removed]"
          },
          "metadata": {}
        }
      ]
    },
    {
      "cell_type": "code",
      "source": [
        "import cv2\n",
        "import numpy as np\n",
        "import torch\n",
        "\n",
        "# Your class names (in the same order as dataset.class_map)\n",
        "class_names = ['Calculus', 'Data caries', 'Gingivitis', 'Mouth Ulcer', 'Tooth Discoloration', 'hypodontia']\n",
        "\n",
        "# Band order used during training\n",
        "band_order = ['blue', 'green', 'indigo', 'orange', 'red', 'violet', 'yellow']\n",
        "\n",
        "# Load multispectral 7-band image\n",
        "def load_multispectral_sample(base_path, img_size=224):\n",
        "    bands = []\n",
        "    for band in band_order:\n",
        "        band_path = f\"{base_path}_{band}.jpg\"\n",
        "        img = cv2.imread(band_path, cv2.IMREAD_GRAYSCALE)\n",
        "        if img is None:\n",
        "            raise FileNotFoundError(f\"❌ Missing image: {band_path}\")\n",
        "        img = cv2.resize(img, (img_size, img_size))\n",
        "        img = img.astype(np.float32) / 255.0  # Normalize\n",
        "        bands.append(img)\n",
        "    stacked = np.stack(bands)  # Shape: (7, 224, 224)\n",
        "    tensor = torch.tensor(stacked).unsqueeze(0).to(device)  # Shape: (1, 7, 224, 224)\n",
        "    return tensor\n",
        "\n",
        "# Predict class from sample\n",
        "def predict_sample(base_path, model):\n",
        "    try:\n",
        "        input_tensor = load_multispectral_sample(base_path)\n",
        "        with torch.no_grad():\n",
        "            outputs = model(input_tensor)\n",
        "            _, predicted = torch.max(outputs, 1)\n",
        "            predicted_class = class_names[predicted.item()]\n",
        "            print(f\"✅ Predicted class: {predicted_class}\")\n",
        "            return predicted_class\n",
        "    except FileNotFoundError as e:\n",
        "        print(str(e))\n",
        "        return None"
      ],
      "metadata": {
        "id": "11SgCxJp1EP5"
      },
      "execution_count": null,
      "outputs": []
    },
    {
      "cell_type": "code",
      "source": [
        "\n",
        "# Load the model\n",
        "import torch.nn as nn\n",
        "import timm\n",
        "\n",
        "class CustomEfficientNet(nn.Module):\n",
        "    def __init__(self, model_name='efficientnet_b3', in_channels=7, num_classes=6):\n",
        "        super(CustomEfficientNet, self).__init__()\n",
        "        self.model = timm.create_model(\n",
        "            model_name,\n",
        "            pretrained=True,\n",
        "            in_chans=in_channels,\n",
        "            num_classes=num_classes\n",
        "        )\n",
        "\n",
        "    def forward(self, x):\n",
        "        return self.model(x)\n",
        "\n",
        "model_path = \"/content/drive/MyDrive/Colab Notebooks/best_efficientnetv2_model.pth\"\n",
        "model = CustomEfficientNet(model_name='efficientnet_b3', in_channels=7, num_classes=6)\n",
        "model.load_state_dict(torch.load(model_path, map_location=device))\n",
        "model.to(device)\n",
        "model.eval()\n",
        "\n",
        "# ✅ Define the base path (without .jpg)\n",
        "base_path = \"/content/VIBGYOR/VIBGYOR dataset/Mouth Ulcer/Mouth_Ulcer_0_1007\"\n",
        "\n",
        "# ✅ Run prediction\n",
        "predicted = predict_sample(base_path, model)"
      ],
      "metadata": {
        "colab": {
          "base_uri": "https://localhost:8080/"
        },
        "id": "YMufFr3V0Mdl",
        "outputId": "dcad627c-89f0-49fa-f3da-c916b3be6f38"
      },
      "execution_count": null,
      "outputs": [
        {
          "output_type": "stream",
          "name": "stdout",
          "text": [
            "✅ Predicted class: Mouth Ulcer\n"
          ]
        }
      ]
    },
    {
      "cell_type": "code",
      "source": [],
      "metadata": {
        "id": "-WpGmq0k0bqo"
      },
      "execution_count": null,
      "outputs": []
    }
  ]
}