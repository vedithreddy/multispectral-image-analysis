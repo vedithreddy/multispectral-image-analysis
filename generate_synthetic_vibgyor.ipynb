{
 "cells": [
  {
   "cell_type": "code",
   "execution_count": 3,
   "id": "7c6d1b7e-8ba4-4cb6-b4ba-16e5023f3c8a",
   "metadata": {},
   "outputs": [
    {
     "name": "stdout",
     "output_type": "stream",
     "text": [
      "11.1.0\n"
     ]
    }
   ],
   "source": [
    "import PIL\n",
    "from PIL import Image\n",
    "print(PIL.__version__)\n"
   ]
  },
  {
   "cell_type": "code",
   "execution_count": 4,
   "id": "6850a6b9-2703-4817-aae0-f822ace9fdee",
   "metadata": {},
   "outputs": [],
   "source": [
    "# Synthetic VIBGYOR Multispectral Generator for Oral Diseases Dataset\n",
    "\n",
    "import os\n",
    "import cv2\n",
    "import numpy as np\n",
    "import matplotlib.pyplot as plt\n",
    "from glob import glob\n",
    "\n"
   ]
  },
  {
   "cell_type": "code",
   "execution_count": 27,
   "id": "60a08905-ceb5-447c-98b2-872990f0c01d",
   "metadata": {},
   "outputs": [],
   "source": [
    "# Input and output paths\n",
    "input_path = r\"E:\\processedarchiveimages (2)\\processedarchiveimages\\train\\Tooth Discoloration\"  # Change to your Kaggle dataset location\n",
    "output_path = r\"E:\\VIBGYOR dataset\\Tooth Discoloration\"\n",
    "os.makedirs(output_path, exist_ok=True)\n",
    "\n"
   ]
  },
  {
   "cell_type": "code",
   "execution_count": 28,
   "id": "fb68c615-8598-448a-b809-ff9a15c4ccce",
   "metadata": {},
   "outputs": [],
   "source": [
    "# Define 7 synthetic spectral transforms corresponding to VIBGYOR bands\n",
    "def generate_vibgyor_variants(image):\n",
    "    image = cv2.resize(image, (256, 256))\n",
    "    image = image.astype(np.float32) / 255.0\n",
    "\n",
    "    # VIBGYOR-like transformations\n",
    "    violet = cv2.applyColorMap((image * 255).astype(np.uint8), cv2.COLORMAP_OCEAN)\n",
    "    indigo = cv2.applyColorMap((image * 255).astype(np.uint8), cv2.COLORMAP_BONE)\n",
    "    blue   = cv2.applyColorMap((image * 255).astype(np.uint8), cv2.COLORMAP_WINTER)\n",
    "    green  = cv2.applyColorMap((image * 255).astype(np.uint8), cv2.COLORMAP_SUMMER)\n",
    "    yellow = cv2.applyColorMap((image * 255).astype(np.uint8), cv2.COLORMAP_AUTUMN)\n",
    "    orange = cv2.applyColorMap((image * 255).astype(np.uint8), cv2.COLORMAP_HOT)\n",
    "   # red    = cv2.applyColorMap((image * 255).astype(np.uint8), cv2.COLORMAP_JET)\n",
    "    red    = np.zeros_like((image * 255).astype(np.uint8))\n",
    "    red[..., 2] = (image * 255).astype(np.uint8)[..., 2]  # only red channel retained\n",
    "\n",
    "    return [violet, indigo, blue, green, yellow, orange, red]\n",
    "\n"
   ]
  },
  {
   "cell_type": "code",
   "execution_count": 29,
   "id": "94e5f908-35f2-4176-a5c8-31d8a2366f1d",
   "metadata": {},
   "outputs": [
    {
     "name": "stdout",
     "output_type": "stream",
     "text": [
      "Found 1334 images.\n",
      "Synthetic VIBGYOR multispectral dataset generation complete.\n"
     ]
    }
   ],
   "source": [
    "# Process all images in the dataset\n",
    "image_files = glob(os.path.join(input_path, \"*.jpeg\")) + glob(os.path.join(input_path, \"*.png\"))\n",
    "print(f\"Found {len(image_files)} images.\")\n",
    "\n",
    "for image_path in image_files:\n",
    "    image_name = os.path.splitext(os.path.basename(image_path))[0]\n",
    "    img = cv2.imread(image_path)\n",
    "    vibgyor_imgs = generate_vibgyor_variants(img)\n",
    "\n",
    "    band_names = [\"violet\", \"indigo\", \"blue\", \"green\", \"yellow\", \"orange\", \"red\"]\n",
    "    for i, band_img in enumerate(vibgyor_imgs):\n",
    "        save_path = os.path.join(output_path, f\"{image_name}_{band_names[i]}.jpg\")\n",
    "        cv2.imwrite(save_path, band_img)\n",
    "\n",
    "print(\"Synthetic VIBGYOR multispectral dataset generation complete.\")\n"
   ]
  },
  {
   "cell_type": "code",
   "execution_count": null,
   "id": "9f7db851-2366-4636-8c13-186fa9512a74",
   "metadata": {},
   "outputs": [],
   "source": []
  }
 ],
 "metadata": {
  "kernelspec": {
   "display_name": "Python 3 (ipykernel)",
   "language": "python",
   "name": "python3"
  },
  "language_info": {
   "codemirror_mode": {
    "name": "ipython",
    "version": 3
   },
   "file_extension": ".py",
   "mimetype": "text/x-python",
   "name": "python",
   "nbconvert_exporter": "python",
   "pygments_lexer": "ipython3",
   "version": "3.12.5"
  }
 },
 "nbformat": 4,
 "nbformat_minor": 5
}
